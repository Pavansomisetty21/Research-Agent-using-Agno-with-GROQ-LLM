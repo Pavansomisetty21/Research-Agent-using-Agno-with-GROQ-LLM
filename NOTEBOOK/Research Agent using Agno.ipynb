{
 "cells": [
  {
   "cell_type": "markdown",
   "id": "9e125089-0a7c-4ae2-a617-03951dfecdbd",
   "metadata": {},
   "source": [
    "# Research Agent using Agno"
   ]
  },
  {
   "cell_type": "code",
   "execution_count": 7,
   "id": "0227d03a-6b88-4938-a9b4-5cf3d0a782aa",
   "metadata": {},
   "outputs": [
    {
     "data": {
      "application/vnd.jupyter.widget-view+json": {
       "model_id": "61dd5ba1c9274161b1442ff039ddb25d",
       "version_major": 2,
       "version_minor": 0
      },
      "text/plain": [
       "Output()"
      ]
     },
     "metadata": {},
     "output_type": "display_data"
    },
    {
     "data": {
      "text/html": [
       "<pre style=\"white-space:pre;overflow-x:auto;line-height:normal;font-family:Menlo,'DejaVu Sans Mono',consolas,'Courier New',monospace\"></pre>\n"
      ],
      "text/plain": []
     },
     "metadata": {},
     "output_type": "display_data"
    }
   ],
   "source": [
    "\n",
    "from textwrap import dedent\n",
    "\n",
    "from agno.agent import Agent\n",
    "from agno.models.groq import Groq\n",
    "from agno.tools.duckduckgo import DuckDuckGoTools\n",
    "from agno.tools.newspaper4k import Newspaper4kTools\n",
    "\n",
    "# Initialize the research agent with advanced journalistic capabilities\n",
    "research_agent = Agent(\n",
    "    model=Groq(id=\"llama-3.3-70b-versatile\", api_key=\"GROQ_API_KEY\"),\n",
    "    tools=[DuckDuckGoTools(), Newspaper4kTools()],\n",
    "    description=dedent(\"\"\"\\\n",
    "    You are a highly skilled investigative journalist with years of experience at The New York Times.\n",
    "    Your expertise includes: 📰\n",
    "\n",
    "    - In-depth research and analytical reporting\n",
    "    - Rigorous fact-checking and source validation\n",
    "    - Engaging storytelling and structured narratives\n",
    "    - Data-driven journalism with visual support\n",
    "    - Conducting and synthesizing expert interviews\n",
    "    - Identifying trends and making future predictions\n",
    "    - Simplifying complex topics for broader understanding\n",
    "    - Upholding ethical journalism standards\n",
    "    - Presenting balanced, well-rounded perspectives\n",
    "    - Integrating global context into reporting\\\n",
    "\"\"\"),\n",
    "    instructions=dedent(\"\"\"\\\n",
    "    1. Research & Data Collection 🔍\n",
    "       - Gather insights from **10+ reputable sources**\n",
    "       - Prioritize **recent publications** and **expert opinions**\n",
    "       - Identify key figures, organizations, and viewpoints\n",
    "\n",
    "    2. Critical Analysis & Verification 📊\n",
    "       - Validate all claims by cross-referencing multiple sources\n",
    "       - Detect patterns, emerging trends, and biases\n",
    "       - Weigh conflicting perspectives and assess credibility\n",
    "\n",
    "    3. Report Structuring & Writing ✍️\n",
    "       - Craft a **powerful, attention-grabbing headline**\n",
    "       - Maintain **The New York Times’ journalistic style**\n",
    "       - Incorporate **expert quotes, data, and statistics**\n",
    "       - Keep the tone **objective, clear, and engaging**\n",
    "       - Break down complex topics into digestible insights\n",
    "\n",
    "    4. Final Review & Quality Control ✅\n",
    "       - Double-check all facts, quotes, and sources\n",
    "       - Ensure smooth narrative flow and logical coherence\n",
    "       - Provide relevant background context and implications\n",
    "       - Highlight **future possibilities, risks, and innovations**\n",
    "\"\"\"),\n",
    "    expected_output=dedent(\"\"\"\\\n",
    "    # {Engaging Headline} 📰\n",
    "\n",
    "    ## Executive Summary\n",
    "    {Concise overview of key findings and significance}\n",
    "\n",
    "    ## Background & Context\n",
    "    {Historical context and importance}\n",
    "    {Current landscape overview}\n",
    "\n",
    "    ## Key Discoveries\n",
    "    {Main findings and their implications}\n",
    "    {Expert opinions and supporting data}\n",
    "    {Relevant statistics and case studies}\n",
    "\n",
    "    ## Impact & Analysis\n",
    "    {How this affects industries, society, or policies}\n",
    "    {Perspectives from key stakeholders}\n",
    "    {Immediate and long-term consequences}\n",
    "\n",
    "    ## Future Trends & Predictions\n",
    "    {Emerging trends and upcoming shifts}\n",
    "    {Expert forecasts and industry movements}\n",
    "    {Potential challenges and opportunities}\n",
    "\n",
    "    ## Expert Commentary\n",
    "    {Notable quotes and insights from professionals}\n",
    "    {Contrasting viewpoints for balanced coverage}\n",
    "\n",
    "    ## Sources & Methodology\n",
    "    {List of primary sources with key contributions}\n",
    "    {Overview of research approach and verification process}\n",
    "\n",
    "    ---\n",
    "    Research conducted by AI Investigative Journalist\n",
    "    New York Times Style Report\n",
    "    Published: {current_date}\n",
    "    Last Updated: {current_time}\\\n",
    "\"\"\"),\n",
    "    markdown=True,\n",
    "    show_tool_calls=True,\n",
    "    add_datetime_to_instructions=True,\n",
    ")\n",
    "\n",
    "# Example usage with detailed research request\n",
    "if __name__ == \"__main__\":\n",
    "    research_agent.print_response(\n",
    "        \"Analyze the current state and future implications of Large Language Models in Technology in worldwide\",\n",
    "        stream=True,\n",
    "    )\n"
   ]
  },
  {
   "cell_type": "code",
   "execution_count": null,
   "id": "ac2df41c-72d7-4768-8ccb-0ee6ab86603e",
   "metadata": {},
   "outputs": [],
   "source": []
  }
 ],
 "metadata": {
  "kernelspec": {
   "display_name": "Python 3 (ipykernel)",
   "language": "python",
   "name": "python3"
  },
  "language_info": {
   "codemirror_mode": {
    "name": "ipython",
    "version": 3
   },
   "file_extension": ".py",
   "mimetype": "text/x-python",
   "name": "python",
   "nbconvert_exporter": "python",
   "pygments_lexer": "ipython3",
   "version": "3.12.8"
  }
 },
 "nbformat": 4,
 "nbformat_minor": 5
}
